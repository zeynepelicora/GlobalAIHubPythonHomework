{
 "cells": [
  {
   "cell_type": "code",
   "execution_count": 5,
   "metadata": {},
   "outputs": [
    {
     "name": "stdin",
     "output_type": "stream",
     "text": [
      "ad: zeynep\n",
      "soyad: sağlam\n",
      "Yaş: 41\n",
      "Doğum tarihi: 1979\n"
     ]
    },
    {
     "name": "stdout",
     "output_type": "stream",
     "text": [
      "zeynep\n",
      "sağlam\n",
      "41\n",
      "1979\n",
      "you can go out to the street\n"
     ]
    }
   ],
   "source": [
    "list=[]\n",
    "ad=input(\"ad:\")\n",
    "soyad=input(\"soyad:\")\n",
    "yas=int(input(\"Yaş:\"))\n",
    "dt=int(input(\"Doğum tarihi:\"))\n",
    "list.append(ad)\n",
    "list.append(soyad)\n",
    "list.append(yas)\n",
    "list.append(dt)\n",
    "for x in list:\n",
    "    print(x)\n",
    "if yas<18:\n",
    "    print(\"you can't go out because it's too dangerous\")\n",
    "else:\n",
    "    print(\"you can go out to the street\")\n",
    "\n"
   ]
  },
  {
   "cell_type": "code",
   "execution_count": null,
   "metadata": {},
   "outputs": [],
   "source": []
  }
 ],
 "metadata": {
  "kernelspec": {
   "display_name": "Python 3",
   "language": "python",
   "name": "python3"
  },
  "language_info": {
   "codemirror_mode": {
    "name": "ipython",
    "version": 3
   },
   "file_extension": ".py",
   "mimetype": "text/x-python",
   "name": "python",
   "nbconvert_exporter": "python",
   "pygments_lexer": "ipython3",
   "version": "3.7.6"
  }
 },
 "nbformat": 4,
 "nbformat_minor": 4
}

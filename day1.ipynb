{
 "cells": [
  {
   "cell_type": "code",
   "execution_count": 9,
   "metadata": {},
   "outputs": [
    {
     "name": "stdin",
     "output_type": "stream",
     "text": [
      "data1: 4\n",
      "data2: 6\n",
      "data3: 3\n",
      "data4: 7\n",
      "data5: 3\n"
     ]
    },
    {
     "name": "stdout",
     "output_type": "stream",
     "text": [
      "data1: 4 data2: 6 data3: 3 data4: 7 data5: 3\n"
     ]
    }
   ],
   "source": [
    "data1=input(\"data1:\")\n",
    "data2=input(\"data2:\")\n",
    "data3=input(\"data3:\")\n",
    "data4=input(\"data4:\")\n",
    "data5=input(\"data5:\")\n",
    "print(\"data1:\",data1,\"data2:\",data2,\"data3:\",data3,\"data4:\",data4,\"data5:\",data5)\n"
   ]
  },
  {
   "cell_type": "code",
   "execution_count": 11,
   "metadata": {},
   "outputs": [
    {
     "name": "stdout",
     "output_type": "stream",
     "text": [
      "data1: <class 'str'>\n",
      "data2: <class 'str'>\n",
      "data3: <class 'str'>\n",
      "data4: <class 'str'>\n",
      "data5: <class 'str'>\n"
     ]
    }
   ],
   "source": [
    "print(\"data1:\",type(data1))\n",
    "print(\"data2:\",type(data2))\n",
    "print(\"data3:\",type(data3))\n",
    "print(\"data4:\",type(data4))\n",
    "print(\"data5:\",type(data5))"
   ]
  },
  {
   "cell_type": "code",
   "execution_count": 13,
   "metadata": {},
   "outputs": [
    {
     "data": {
      "text/plain": [
       "'data1:4, data2:6,data3:3,data4:7,data5:3'"
      ]
     },
     "execution_count": 13,
     "metadata": {},
     "output_type": "execute_result"
    }
   ],
   "source": [
    "f\"data1:{data1}, data2:{data2},data3:{data3},data4:{data4},data5:{data5}\""
   ]
  },
  {
   "cell_type": "code",
   "execution_count": 22,
   "metadata": {},
   "outputs": [
    {
     "name": "stdout",
     "output_type": "stream",
     "text": [
      "data1: 4, data2: 6,data3: 3,data4: 7,data5: 3\n"
     ]
    }
   ],
   "source": [
    "print(\"data1: {}, data2: {},data3: {},data4: {},data5: {}\".format(data1,data2,data3,data4,data5))"
   ]
  },
  {
   "cell_type": "code",
   "execution_count": null,
   "metadata": {},
   "outputs": [],
   "source": []
  },
  {
   "cell_type": "code",
   "execution_count": null,
   "metadata": {},
   "outputs": [],
   "source": []
  },
  {
   "cell_type": "code",
   "execution_count": null,
   "metadata": {},
   "outputs": [],
   "source": []
  },
  {
   "cell_type": "code",
   "execution_count": null,
   "metadata": {},
   "outputs": [],
   "source": []
  },
  {
   "cell_type": "code",
   "execution_count": null,
   "metadata": {},
   "outputs": [],
   "source": []
  },
  {
   "cell_type": "code",
   "execution_count": null,
   "metadata": {},
   "outputs": [],
   "source": []
  },
  {
   "cell_type": "code",
   "execution_count": null,
   "metadata": {},
   "outputs": [],
   "source": []
  }
 ],
 "metadata": {
  "kernelspec": {
   "display_name": "Python 3",
   "language": "python",
   "name": "python3"
  },
  "language_info": {
   "codemirror_mode": {
    "name": "ipython",
    "version": 3
   },
   "file_extension": ".py",
   "mimetype": "text/x-python",
   "name": "python",
   "nbconvert_exporter": "python",
   "pygments_lexer": "ipython3",
   "version": "3.7.6"
  }
 },
 "nbformat": 4,
 "nbformat_minor": 4
}
